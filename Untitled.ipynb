{
 "cells": [
  {
   "cell_type": "code",
   "execution_count": 1,
   "id": "590f182b-e072-49f9-82e7-4e3cb6719be6",
   "metadata": {},
   "outputs": [],
   "source": [
    "import warnings\n",
    "warnings.filterwarnings('ignore')"
   ]
  },
  {
   "cell_type": "code",
   "execution_count": 2,
   "id": "7071889c-f1f8-4b1f-89b3-2d4081d6cc9f",
   "metadata": {},
   "outputs": [],
   "source": [
    "import pandas as pd\n",
    "import numpy as np\n",
    "import matplotlib.pyplot as plt\n",
    "import seaborn as sns\n",
    "import sklearn as sk"
   ]
  },
  {
   "cell_type": "code",
   "execution_count": 3,
   "id": "db96197a-8f53-4e11-8956-6b9ee5fbaa82",
   "metadata": {},
   "outputs": [],
   "source": [
    "df = pd.read_excel('data_airline_reviews.xlsx')"
   ]
  },
  {
   "cell_type": "code",
   "execution_count": 4,
   "id": "799fffda-9bfb-4085-a9ee-bdccb57b7d9e",
   "metadata": {},
   "outputs": [
    {
     "name": "stdout",
     "output_type": "stream",
     "text": [
      "<class 'pandas.core.frame.DataFrame'>\n",
      "RangeIndex: 131895 entries, 0 to 131894\n",
      "Data columns (total 17 columns):\n",
      " #   Column           Non-Null Count  Dtype  \n",
      "---  ------           --------------  -----  \n",
      " 0   airline          65947 non-null  object \n",
      " 1   overall          64017 non-null  float64\n",
      " 2   author           65947 non-null  object \n",
      " 3   review_date      65947 non-null  object \n",
      " 4   customer_review  65947 non-null  object \n",
      " 5   aircraft         19718 non-null  object \n",
      " 6   traveller_type   39755 non-null  object \n",
      " 7   cabin            63303 non-null  object \n",
      " 8   route            39726 non-null  object \n",
      " 9   date_flown       39633 non-null  object \n",
      " 10  seat_comfort     60681 non-null  float64\n",
      " 11  cabin_service    60715 non-null  float64\n",
      " 12  food_bev         52608 non-null  float64\n",
      " 13  entertainment    44193 non-null  float64\n",
      " 14  ground_service   39358 non-null  float64\n",
      " 15  value_for_money  63975 non-null  float64\n",
      " 16  recommended      64440 non-null  object \n",
      "dtypes: float64(7), object(10)\n",
      "memory usage: 17.1+ MB\n"
     ]
    }
   ],
   "source": [
    "df.info()"
   ]
  },
  {
   "cell_type": "code",
   "execution_count": 22,
   "id": "7cd11ff5-4178-4a9c-9b99-43687f654a77",
   "metadata": {},
   "outputs": [
    {
     "data": {
      "text/plain": [
       "airline                1\n",
       "overall             1783\n",
       "author                 1\n",
       "review_date            1\n",
       "customer_review        1\n",
       "aircraft           42696\n",
       "traveller_type     23644\n",
       "cabin               2479\n",
       "route              23671\n",
       "date_flown         23750\n",
       "seat_comfort        4973\n",
       "cabin_service       4944\n",
       "food_bev           12843\n",
       "entertainment      20954\n",
       "ground_service     24015\n",
       "value_for_money     1857\n",
       "recommended         1423\n",
       "dtype: int64"
      ]
     },
     "execution_count": 22,
     "metadata": {},
     "output_type": "execute_result"
    }
   ],
   "source": [
    "df.isna().sum()"
   ]
  },
  {
   "cell_type": "code",
   "execution_count": 14,
   "id": "7a47a908-f3d9-47fd-b70d-405dd4e548c3",
   "metadata": {},
   "outputs": [
    {
     "name": "stdout",
     "output_type": "stream",
     "text": [
      "67455\n"
     ]
    }
   ],
   "source": [
    "print(df['recommended'].isna().sum())"
   ]
  },
  {
   "cell_type": "code",
   "execution_count": 23,
   "id": "9bc09ecf-e7d8-40f2-8ea6-3861884b5b24",
   "metadata": {},
   "outputs": [
    {
     "name": "stdout",
     "output_type": "stream",
     "text": [
      "airline | Unique Values: 82 | Data Types: object | Total Nan: 1\n",
      "\n",
      "overall | Unique Values: [nan  7.  2.  3. 10.  1.  6.  8.  5.  4.  9.] | Data Types: float64 | Total Nan: 1783\n",
      "\n",
      "author | Unique Values: 44070 | Data Types: object | Total Nan: 1\n",
      "\n",
      "review_date | Unique Values: 3016 | Data Types: object | Total Nan: 1\n",
      "\n",
      "customer_review | Unique Values: 61173 | Data Types: object | Total Nan: 1\n",
      "\n",
      "aircraft | Unique Values: 2089 | Data Types: object | Total Nan: 42696\n",
      "\n",
      "traveller_type | Unique Values: [nan 'Business' 'Family Leisure' 'Solo Leisure' 'Couple Leisure'] | Data Types: object | Total Nan: 23644\n",
      "\n",
      "cabin | Unique Values: [nan 'Economy Class' 'Business Class' 'Premium Economy' 'First Class'] | Data Types: object | Total Nan: 2479\n",
      "\n",
      "route | Unique Values: 24550 | Data Types: object | Total Nan: 23671\n",
      "\n",
      "date_flown | Unique Values: 64 | Data Types: object | Total Nan: 23750\n",
      "\n",
      "seat_comfort | Unique Values: [nan  4.  1.  3.  2.  5.] | Data Types: float64 | Total Nan: 4973\n",
      "\n",
      "cabin_service | Unique Values: [nan  5.  1.  4.  3.  2.] | Data Types: float64 | Total Nan: 4944\n",
      "\n",
      "food_bev | Unique Values: [nan  4.  1.  5.  2.  3.] | Data Types: float64 | Total Nan: 12843\n",
      "\n",
      "entertainment | Unique Values: [nan  4.  1.  3.  5.  2.] | Data Types: float64 | Total Nan: 20954\n",
      "\n",
      "ground_service | Unique Values: [nan  2.  1.  5.  3.  4.] | Data Types: float64 | Total Nan: 24015\n",
      "\n",
      "value_for_money | Unique Values: [nan  4.  1.  2.  5.  3.] | Data Types: float64 | Total Nan: 1857\n",
      "\n",
      "recommended | Unique Values: [nan 'yes' 'no'] | Data Types: object | Total Nan: 1423\n",
      "\n"
     ]
    }
   ],
   "source": [
    "for col in df.columns:\n",
    "    dtype = df[col].dtype\n",
    "    unique = df[col].unique()\n",
    "    nans = df[col].isna().sum()\n",
    "    if len(unique) <= 15:\n",
    "        print(f\"{col} | Unique Values: {unique} | Data Types: {dtype} | Total Nan: {nans}\", end='\\n\\n')\n",
    "    else:\n",
    "        print(f\"{col} | Unique Values: {len(unique)} | Data Types: {dtype} | Total Nan: {nans}\", end='\\n\\n')"
   ]
  },
  {
   "cell_type": "code",
   "execution_count": 20,
   "id": "e036a484-9301-4aa0-9ded-873958bba0f6",
   "metadata": {},
   "outputs": [],
   "source": [
    "df.drop_duplicates(inplace = True)"
   ]
  },
  {
   "cell_type": "code",
   "execution_count": 21,
   "id": "ef8473aa-b3d0-4a97-8528-e0fec613b11a",
   "metadata": {},
   "outputs": [
    {
     "data": {
      "text/plain": [
       "(61184, 17)"
      ]
     },
     "execution_count": 21,
     "metadata": {},
     "output_type": "execute_result"
    }
   ],
   "source": [
    "df.shape"
   ]
  },
  {
   "cell_type": "code",
   "execution_count": 27,
   "id": "722bc48e-250f-483d-ad60-dddbfcdd92c1",
   "metadata": {},
   "outputs": [],
   "source": [
    "num_cols = df.select_dtypes(exclude='object')"
   ]
  },
  {
   "cell_type": "code",
   "execution_count": 29,
   "id": "113450ac-37f2-4eae-8d75-f26e2a7ead9e",
   "metadata": {},
   "outputs": [
    {
     "data": {
      "text/plain": [
       "overall            5.0\n",
       "seat_comfort       3.0\n",
       "cabin_service      3.0\n",
       "food_bev           3.0\n",
       "entertainment      3.0\n",
       "ground_service     3.0\n",
       "value_for_money    3.0\n",
       "dtype: float64"
      ]
     },
     "execution_count": 29,
     "metadata": {},
     "output_type": "execute_result"
    }
   ],
   "source": [
    "num_cols.median()"
   ]
  },
  {
   "cell_type": "code",
   "execution_count": 30,
   "id": "aa2974e7-fb58-4b15-9420-e166c60b0fa9",
   "metadata": {},
   "outputs": [
    {
     "data": {
      "text/plain": [
       "overall            5.164863\n",
       "seat_comfort       2.959278\n",
       "cabin_service      3.200231\n",
       "food_bev           2.926956\n",
       "entertainment      2.887994\n",
       "ground_service     2.681347\n",
       "value_for_money    2.950849\n",
       "dtype: float64"
      ]
     },
     "execution_count": 30,
     "metadata": {},
     "output_type": "execute_result"
    }
   ],
   "source": [
    "num_cols.mean()"
   ]
  },
  {
   "cell_type": "code",
   "execution_count": 31,
   "id": "ffe18c41-6084-4f95-b17e-8e31a868eb37",
   "metadata": {},
   "outputs": [
    {
     "data": {
      "text/plain": [
       "(61184, 7)"
      ]
     },
     "execution_count": 31,
     "metadata": {},
     "output_type": "execute_result"
    }
   ],
   "source": [
    "num_cols.shape"
   ]
  },
  {
   "cell_type": "code",
   "execution_count": 32,
   "id": "b4be1f04-2770-40a8-883b-6c6cf4a69170",
   "metadata": {},
   "outputs": [],
   "source": [
    "cat_cols = df.select_dtypes(include='object')"
   ]
  },
  {
   "cell_type": "code",
   "execution_count": 35,
   "id": "c8997198-4cc2-4fec-9317-21b144d7b9e3",
   "metadata": {},
   "outputs": [
    {
     "data": {
      "text/plain": [
       "(61184, 10)"
      ]
     },
     "execution_count": 35,
     "metadata": {},
     "output_type": "execute_result"
    }
   ],
   "source": [
    "cat_cols.shape"
   ]
  },
  {
   "cell_type": "code",
   "execution_count": 36,
   "id": "53d32698-d583-4572-a809-8ea94d86ffca",
   "metadata": {},
   "outputs": [
    {
     "data": {
      "text/plain": [
       "0    no\n",
       "Name: recommended, dtype: object"
      ]
     },
     "execution_count": 36,
     "metadata": {},
     "output_type": "execute_result"
    }
   ],
   "source": [
    "cat_cols['recommended'].mode()"
   ]
  },
  {
   "cell_type": "code",
   "execution_count": 43,
   "id": "2bd19908-34bb-4b60-ab9e-617ebda6f5ac",
   "metadata": {},
   "outputs": [
    {
     "data": {
      "text/plain": [
       "(61184, 28493, 31268)"
      ]
     },
     "execution_count": 43,
     "metadata": {},
     "output_type": "execute_result"
    }
   ],
   "source": [
    "cat_cols['recommended'].shape[0], sum(cat_cols['recommended'] == 'yes'), sum(cat_cols['recommended'] == 'no')"
   ]
  },
  {
   "cell_type": "code",
   "execution_count": 44,
   "id": "7586e5ca-5654-45ca-a776-16fac9b42830",
   "metadata": {},
   "outputs": [
    {
     "data": {
      "text/plain": [
       "1423"
      ]
     },
     "execution_count": 44,
     "metadata": {},
     "output_type": "execute_result"
    }
   ],
   "source": [
    "cat_cols['recommended'].shape[0] - (sum(cat_cols['recommended'] == 'yes') + sum(cat_cols['recommended'] == 'no'))"
   ]
  },
  {
   "cell_type": "code",
   "execution_count": 47,
   "id": "153141ef-697c-44fe-a4a9-d28da7c85fdd",
   "metadata": {},
   "outputs": [
    {
     "data": {
      "text/plain": [
       "(0.46569364539748953, 0.5343063546025104)"
      ]
     },
     "execution_count": 47,
     "metadata": {},
     "output_type": "execute_result"
    }
   ],
   "source": [
    "sum(cat_cols['recommended'] == 'yes')/cat_cols['recommended'].shape[0], (sum(cat_cols['recommended'] == 'no')+1423)/cat_cols['recommended'].shape[0]"
   ]
  },
  {
   "cell_type": "code",
   "execution_count": 49,
   "id": "646c1d7c-d2cf-44f6-8212-8979e0392b56",
   "metadata": {},
   "outputs": [
    {
     "data": {
      "text/plain": [
       "0.5343063546025104"
      ]
     },
     "execution_count": 49,
     "metadata": {},
     "output_type": "execute_result"
    }
   ],
   "source": [
    "sum(cat_cols['recommended'].fillna('no') == 'no')/cat_cols['recommended'].shape[0]"
   ]
  },
  {
   "cell_type": "code",
   "execution_count": 53,
   "id": "a1e47e40-7b5b-46c3-8548-ff02508d0d55",
   "metadata": {},
   "outputs": [
    {
     "data": {
      "text/html": [
       "<div>\n",
       "<style scoped>\n",
       "    .dataframe tbody tr th:only-of-type {\n",
       "        vertical-align: middle;\n",
       "    }\n",
       "\n",
       "    .dataframe tbody tr th {\n",
       "        vertical-align: top;\n",
       "    }\n",
       "\n",
       "    .dataframe thead th {\n",
       "        text-align: right;\n",
       "    }\n",
       "</style>\n",
       "<table border=\"1\" class=\"dataframe\">\n",
       "  <thead>\n",
       "    <tr style=\"text-align: right;\">\n",
       "      <th></th>\n",
       "      <th>airline</th>\n",
       "      <th>author</th>\n",
       "      <th>review_date</th>\n",
       "      <th>customer_review</th>\n",
       "      <th>aircraft</th>\n",
       "      <th>traveller_type</th>\n",
       "      <th>cabin</th>\n",
       "      <th>route</th>\n",
       "      <th>date_flown</th>\n",
       "      <th>recommended</th>\n",
       "    </tr>\n",
       "  </thead>\n",
       "  <tbody>\n",
       "    <tr>\n",
       "      <th>0</th>\n",
       "      <td>NaN</td>\n",
       "      <td>NaN</td>\n",
       "      <td>NaN</td>\n",
       "      <td>NaN</td>\n",
       "      <td>NaN</td>\n",
       "      <td>NaN</td>\n",
       "      <td>NaN</td>\n",
       "      <td>NaN</td>\n",
       "      <td>NaN</td>\n",
       "      <td>NaN</td>\n",
       "    </tr>\n",
       "    <tr>\n",
       "      <th>1</th>\n",
       "      <td>Turkish Airlines</td>\n",
       "      <td>Christopher Hackley</td>\n",
       "      <td>8th May 2019</td>\n",
       "      <td>âœ… Trip Verified | London to Izmir via Istanb...</td>\n",
       "      <td>NaN</td>\n",
       "      <td>Business</td>\n",
       "      <td>Economy Class</td>\n",
       "      <td>London to Izmir via Istanbul</td>\n",
       "      <td>2019-05-01 00:00:00</td>\n",
       "      <td>yes</td>\n",
       "    </tr>\n",
       "    <tr>\n",
       "      <th>3</th>\n",
       "      <td>Turkish Airlines</td>\n",
       "      <td>Adriana Pisoi</td>\n",
       "      <td>7th May 2019</td>\n",
       "      <td>âœ… Trip Verified | Istanbul to Bucharest. We ...</td>\n",
       "      <td>NaN</td>\n",
       "      <td>Family Leisure</td>\n",
       "      <td>Economy Class</td>\n",
       "      <td>Istanbul to Bucharest</td>\n",
       "      <td>2019-05-01 00:00:00</td>\n",
       "      <td>no</td>\n",
       "    </tr>\n",
       "    <tr>\n",
       "      <th>5</th>\n",
       "      <td>Turkish Airlines</td>\n",
       "      <td>M Galerko</td>\n",
       "      <td>7th May 2019</td>\n",
       "      <td>âœ… Trip Verified | Rome to Prishtina via Ista...</td>\n",
       "      <td>NaN</td>\n",
       "      <td>Business</td>\n",
       "      <td>Economy Class</td>\n",
       "      <td>Rome to Prishtina via Istanbul</td>\n",
       "      <td>2019-05-01 00:00:00</td>\n",
       "      <td>no</td>\n",
       "    </tr>\n",
       "    <tr>\n",
       "      <th>7</th>\n",
       "      <td>Turkish Airlines</td>\n",
       "      <td>Zeshan Shah</td>\n",
       "      <td>6th May 2019</td>\n",
       "      <td>âœ… Trip Verified | Flew on Turkish Airlines I...</td>\n",
       "      <td>A330</td>\n",
       "      <td>Solo Leisure</td>\n",
       "      <td>Economy Class</td>\n",
       "      <td>Washington Dulles to Karachi</td>\n",
       "      <td>April 2019</td>\n",
       "      <td>yes</td>\n",
       "    </tr>\n",
       "  </tbody>\n",
       "</table>\n",
       "</div>"
      ],
      "text/plain": [
       "            airline               author   review_date  \\\n",
       "0               NaN                  NaN           NaN   \n",
       "1  Turkish Airlines  Christopher Hackley  8th May 2019   \n",
       "3  Turkish Airlines        Adriana Pisoi  7th May 2019   \n",
       "5  Turkish Airlines            M Galerko  7th May 2019   \n",
       "7  Turkish Airlines          Zeshan Shah  6th May 2019   \n",
       "\n",
       "                                     customer_review aircraft  traveller_type  \\\n",
       "0                                                NaN      NaN             NaN   \n",
       "1  âœ… Trip Verified | London to Izmir via Istanb...      NaN        Business   \n",
       "3  âœ… Trip Verified | Istanbul to Bucharest. We ...      NaN  Family Leisure   \n",
       "5  âœ… Trip Verified | Rome to Prishtina via Ista...      NaN        Business   \n",
       "7  âœ… Trip Verified | Flew on Turkish Airlines I...     A330    Solo Leisure   \n",
       "\n",
       "           cabin                           route           date_flown  \\\n",
       "0            NaN                             NaN                  NaN   \n",
       "1  Economy Class    London to Izmir via Istanbul  2019-05-01 00:00:00   \n",
       "3  Economy Class           Istanbul to Bucharest  2019-05-01 00:00:00   \n",
       "5  Economy Class  Rome to Prishtina via Istanbul  2019-05-01 00:00:00   \n",
       "7  Economy Class    Washington Dulles to Karachi           April 2019   \n",
       "\n",
       "  recommended  \n",
       "0         NaN  \n",
       "1         yes  \n",
       "3          no  \n",
       "5          no  \n",
       "7         yes  "
      ]
     },
     "execution_count": 53,
     "metadata": {},
     "output_type": "execute_result"
    }
   ],
   "source": [
    "cat_cols.head()"
   ]
  },
  {
   "cell_type": "code",
   "execution_count": 62,
   "id": "f3237ee1-e746-4158-be7d-22cbb8bcbe70",
   "metadata": {},
   "outputs": [],
   "source": [
    "for col in cat_cols.columns:\n",
    "    if col != 'customer_review':\n",
    "        cat_cols[col] = cat_cols[col].fillna(value=cat_cols[col].mode()[0])"
   ]
  },
  {
   "cell_type": "code",
   "execution_count": 68,
   "id": "99853ad9-9655-4118-a686-52b09a03269e",
   "metadata": {},
   "outputs": [],
   "source": [
    "for col in num_cols.columns:\n",
    "    num_cols[col] = num_cols[col].fillna(value=num_cols[col].median())"
   ]
  },
  {
   "cell_type": "code",
   "execution_count": 70,
   "id": "daa722be-ca67-4ff0-87ef-2e27b8e3a171",
   "metadata": {},
   "outputs": [
    {
     "data": {
      "text/plain": [
       "overall            False\n",
       "seat_comfort       False\n",
       "cabin_service      False\n",
       "food_bev           False\n",
       "entertainment      False\n",
       "ground_service     False\n",
       "value_for_money    False\n",
       "dtype: bool"
      ]
     },
     "execution_count": 70,
     "metadata": {},
     "output_type": "execute_result"
    }
   ],
   "source": [
    "num_cols.isna().any()"
   ]
  },
  {
   "cell_type": "code",
   "execution_count": 77,
   "id": "a427e54c-593b-48ff-9b2d-44267f2ff652",
   "metadata": {},
   "outputs": [],
   "source": [
    "new_df = pd.concat([num_cols, cat_cols], axis = 1)"
   ]
  },
  {
   "cell_type": "code",
   "execution_count": 79,
   "id": "38f1b9b7-844d-421c-898e-88ef8d6e05a6",
   "metadata": {},
   "outputs": [],
   "source": [
    "new_df.dropna(axis=0, inplace=True)"
   ]
  },
  {
   "cell_type": "code",
   "execution_count": 80,
   "id": "efe7ae8a-6c88-4fdd-af6b-65ddd5ff0962",
   "metadata": {},
   "outputs": [
    {
     "data": {
      "text/plain": [
       "(61183, 17)"
      ]
     },
     "execution_count": 80,
     "metadata": {},
     "output_type": "execute_result"
    }
   ],
   "source": [
    "new_df.shape"
   ]
  },
  {
   "cell_type": "code",
   "execution_count": 119,
   "id": "2b7e06fb-422d-4c9f-bf97-33701ff61607",
   "metadata": {},
   "outputs": [],
   "source": [
    "import string\n",
    "import re\n",
    "import nltk"
   ]
  },
  {
   "cell_type": "code",
   "execution_count": 123,
   "id": "e2d6af80-625e-4480-a408-53abc9f2727e",
   "metadata": {},
   "outputs": [],
   "source": [
    "lemmatizer=nltk.stem.WordNetLemmatizer()\n",
    "swords = set(nltk.corpus.stopwords.words('english'))\n",
    "\n",
    "def CleanText(text, stopwords_lan, base_case):\n",
    "    clr_text = text.apply(lambda x : x.lower())\n",
    "    clr_text = clr_text.apply(lambda x : x.replace('âœ',\"'\"))\n",
    "    clr_text = clr_text.apply(lambda x : ''.join([c for c in x if ord(c) < 128]))\n",
    "    clr_text = clr_text.apply(lambda x : \" \".join(x.split()))\n",
    "    clr_text = clr_text.apply(lambda x : x.translate(str.maketrans('','',string.punctuation)))\n",
    "    clr_text = clr_text.apply(lambda x :  re.sub(r'^https?:\\/\\/.*[\\r\\n]*', '', x))\n",
    "    clr_text = clr_text.apply(lambda x : \" \".join(s for s in x.split() if not any(c.isdigit() for c in s)))\n",
    "    clr_text = clr_text.apply(lambda text: \" \".join(word for word in text.split() if not word in stopwords_lan))\n",
    "    clr_text = clr_text.apply(lambda x :\" \".join([base_case.lemmatize(word) for word in nltk.tokenize.word_tokenize(x)]))\n",
    "\n",
    "    return clr_text"
   ]
  },
  {
   "cell_type": "code",
   "execution_count": 124,
   "id": "bf830318-96dc-4489-98be-bff935c2f30d",
   "metadata": {},
   "outputs": [],
   "source": [
    "out = CleanText(new_df['customer_review'], swords, lemmatizer)"
   ]
  },
  {
   "cell_type": "code",
   "execution_count": 178,
   "id": "7d108cb2-e0cc-4b6a-9424-b501ebbbb92d",
   "metadata": {},
   "outputs": [],
   "source": [
    "new_df['customer_review']=out"
   ]
  },
  {
   "cell_type": "code",
   "execution_count": 205,
   "id": "1698817c-9082-4451-8a9b-9bf55a45b6d7",
   "metadata": {},
   "outputs": [
    {
     "name": "stdout",
     "output_type": "stream",
     "text": [
      "[[ 0.08557078 -0.05792736 -0.03700196]\n",
      " [-0.20421818  0.00368821  0.02327977]\n",
      " [-0.02569013 -0.01812233 -0.07214624]\n",
      " ...\n",
      " [ 0.08635116  0.30245993  0.15192698]\n",
      " [-0.07934529  0.08984944  0.11065458]\n",
      " [ 0.13153144 -0.07277204 -0.09842546]]\n"
     ]
    }
   ],
   "source": [
    "from sklearn.feature_extraction.text import TfidfVectorizer\n",
    "from sklearn.decomposition import PCA\n",
    "\n",
    "# Step 1: TF-IDF Vectorization\n",
    "vectorizer = TfidfVectorizer(max_features=500)\n",
    "tfidf_matrix = vectorizer.fit_transform(new_df['customer_review'])\n",
    "\n",
    "# Step 2: Convert to dense array (required for PCA)\n",
    "tfidf_dense = tfidf_matrix.toarray()\n",
    "\n",
    "# Step 3: Apply PCA\n",
    "pca = PCA(n_components=3)\n",
    "reduced_data = pca.fit_transform(tfidf_dense)\n",
    "\n",
    "# reduced_data now holds the PCA-transformed data\n",
    "print(reduced_data)"
   ]
  },
  {
   "cell_type": "code",
   "execution_count": 206,
   "id": "04d54d54-e8af-4225-9d8b-294ce63e3edc",
   "metadata": {},
   "outputs": [
    {
     "data": {
      "text/plain": [
       "(61183, 3)"
      ]
     },
     "execution_count": 206,
     "metadata": {},
     "output_type": "execute_result"
    }
   ],
   "source": [
    "reduced_data.shape"
   ]
  },
  {
   "cell_type": "code",
   "execution_count": 208,
   "id": "e3dddf73-785c-4e11-811c-a89c6a841609",
   "metadata": {},
   "outputs": [],
   "source": [
    "# Step 4: Create a DataFrame for the reduced data\n",
    "column_names = ['PC1', 'PC2', 'PC3']  # Naming the principal components\n",
    "df_pca = pd.DataFrame(reduced_data, columns=column_names)"
   ]
  },
  {
   "cell_type": "code",
   "execution_count": 209,
   "id": "a833ce02-650c-413b-96e5-a4bb084200eb",
   "metadata": {},
   "outputs": [
    {
     "data": {
      "text/html": [
       "<div>\n",
       "<style scoped>\n",
       "    .dataframe tbody tr th:only-of-type {\n",
       "        vertical-align: middle;\n",
       "    }\n",
       "\n",
       "    .dataframe tbody tr th {\n",
       "        vertical-align: top;\n",
       "    }\n",
       "\n",
       "    .dataframe thead th {\n",
       "        text-align: right;\n",
       "    }\n",
       "</style>\n",
       "<table border=\"1\" class=\"dataframe\">\n",
       "  <thead>\n",
       "    <tr style=\"text-align: right;\">\n",
       "      <th></th>\n",
       "      <th>PC1</th>\n",
       "      <th>PC2</th>\n",
       "      <th>PC3</th>\n",
       "    </tr>\n",
       "  </thead>\n",
       "  <tbody>\n",
       "    <tr>\n",
       "      <th>0</th>\n",
       "      <td>0.085571</td>\n",
       "      <td>-0.057927</td>\n",
       "      <td>-0.037002</td>\n",
       "    </tr>\n",
       "    <tr>\n",
       "      <th>1</th>\n",
       "      <td>-0.204218</td>\n",
       "      <td>0.003688</td>\n",
       "      <td>0.023280</td>\n",
       "    </tr>\n",
       "    <tr>\n",
       "      <th>2</th>\n",
       "      <td>-0.025690</td>\n",
       "      <td>-0.018122</td>\n",
       "      <td>-0.072146</td>\n",
       "    </tr>\n",
       "    <tr>\n",
       "      <th>3</th>\n",
       "      <td>0.112528</td>\n",
       "      <td>-0.069506</td>\n",
       "      <td>-0.110490</td>\n",
       "    </tr>\n",
       "    <tr>\n",
       "      <th>4</th>\n",
       "      <td>-0.146923</td>\n",
       "      <td>-0.032211</td>\n",
       "      <td>-0.053693</td>\n",
       "    </tr>\n",
       "    <tr>\n",
       "      <th>...</th>\n",
       "      <td>...</td>\n",
       "      <td>...</td>\n",
       "      <td>...</td>\n",
       "    </tr>\n",
       "    <tr>\n",
       "      <th>61178</th>\n",
       "      <td>0.012563</td>\n",
       "      <td>-0.091889</td>\n",
       "      <td>-0.045643</td>\n",
       "    </tr>\n",
       "    <tr>\n",
       "      <th>61179</th>\n",
       "      <td>0.022681</td>\n",
       "      <td>-0.144083</td>\n",
       "      <td>-0.003436</td>\n",
       "    </tr>\n",
       "    <tr>\n",
       "      <th>61180</th>\n",
       "      <td>0.086351</td>\n",
       "      <td>0.302460</td>\n",
       "      <td>0.151927</td>\n",
       "    </tr>\n",
       "    <tr>\n",
       "      <th>61181</th>\n",
       "      <td>-0.079345</td>\n",
       "      <td>0.089849</td>\n",
       "      <td>0.110655</td>\n",
       "    </tr>\n",
       "    <tr>\n",
       "      <th>61182</th>\n",
       "      <td>0.131531</td>\n",
       "      <td>-0.072772</td>\n",
       "      <td>-0.098425</td>\n",
       "    </tr>\n",
       "  </tbody>\n",
       "</table>\n",
       "<p>61183 rows × 3 columns</p>\n",
       "</div>"
      ],
      "text/plain": [
       "            PC1       PC2       PC3\n",
       "0      0.085571 -0.057927 -0.037002\n",
       "1     -0.204218  0.003688  0.023280\n",
       "2     -0.025690 -0.018122 -0.072146\n",
       "3      0.112528 -0.069506 -0.110490\n",
       "4     -0.146923 -0.032211 -0.053693\n",
       "...         ...       ...       ...\n",
       "61178  0.012563 -0.091889 -0.045643\n",
       "61179  0.022681 -0.144083 -0.003436\n",
       "61180  0.086351  0.302460  0.151927\n",
       "61181 -0.079345  0.089849  0.110655\n",
       "61182  0.131531 -0.072772 -0.098425\n",
       "\n",
       "[61183 rows x 3 columns]"
      ]
     },
     "execution_count": 209,
     "metadata": {},
     "output_type": "execute_result"
    }
   ],
   "source": [
    "df_pca"
   ]
  },
  {
   "cell_type": "code",
   "execution_count": null,
   "id": "88b3ca0d-08b3-49e3-88fd-6d3a3467f8ca",
   "metadata": {},
   "outputs": [],
   "source": []
  }
 ],
 "metadata": {
  "kernelspec": {
   "display_name": "Python 3 (ipykernel)",
   "language": "python",
   "name": "python3"
  },
  "language_info": {
   "codemirror_mode": {
    "name": "ipython",
    "version": 3
   },
   "file_extension": ".py",
   "mimetype": "text/x-python",
   "name": "python",
   "nbconvert_exporter": "python",
   "pygments_lexer": "ipython3",
   "version": "3.10.0"
  }
 },
 "nbformat": 4,
 "nbformat_minor": 5
}
